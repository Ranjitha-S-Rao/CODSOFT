{
 "cells": [
  {
   "cell_type": "code",
   "execution_count": null,
   "id": "8ed00851-c5a0-4c2f-b9b8-17a86927e781",
   "metadata": {},
   "outputs": [
    {
     "name": "stdout",
     "output_type": "stream",
     "text": [
      "Chatbot:Hi, I'm a simple chatbot. I'm here to assist you!\n"
     ]
    },
    {
     "name": "stdin",
     "output_type": "stream",
     "text": [
      "Me:  hello\n"
     ]
    },
    {
     "name": "stdout",
     "output_type": "stream",
     "text": [
      "Chatbot: Hello! How can i help you today?\n"
     ]
    },
    {
     "name": "stdin",
     "output_type": "stream",
     "text": [
      "Me:  what is your name\n"
     ]
    },
    {
     "name": "stdout",
     "output_type": "stream",
     "text": [
      "Chatbot: I'm sorry, I didnt understand. Can you please rephrase your sentence?\n"
     ]
    },
    {
     "name": "stdin",
     "output_type": "stream",
     "text": [
      "Me:  How are you\n"
     ]
    },
    {
     "name": "stdout",
     "output_type": "stream",
     "text": [
      "Chatbot: I'm just a chatbot,I'm here to assist you\n"
     ]
    },
    {
     "name": "stdin",
     "output_type": "stream",
     "text": [
      "Me:  ok bye\n"
     ]
    },
    {
     "name": "stdout",
     "output_type": "stream",
     "text": [
      "Chatbot: bye! Take care and have a great day!\n"
     ]
    }
   ],
   "source": [
    "data={\n",
    "    \"hi\":\"Hi there! I'm a friendly chatbot here to assist you\",\n",
    "    \"hello\":\"Hello! How can i help you today?\",\n",
    "    \"What is your name\":\"I'm just a chatbot, so i dont have any name\",\n",
    "    \"Where are you from\":\"I'm from the digital world always ready to chat!\",\n",
    "    \"How are you\":\"I'm just a chatbot,I'm here to assist you\",\n",
    "    \"Do you have any hobbies or interests\":\"I'm always busy helping users, so my hobby is chatting with people like you!\",\n",
    "    \"what did you eat today\":\"I dont eat, I'm just a chatbot but I can help you find delicious recipes\",\n",
    "    \"what is your favourite color\":\"I'm a chatbot, i dont have personal preference\",\n",
    "    \"ok bye\":\"bye! Take care and have a great day!\",\n",
    "}\n",
    "def get_response(user_input):\n",
    "    for pattern,response in data.items():\n",
    "        if pattern in user_input:\n",
    "            return response\n",
    "    return \"I'm sorry, I didnt understand. Can you please rephrase your sentence?\"\n",
    "print(\"Chatbot:Hi, I'm a simple chatbot. I'm here to assist you!\")\n",
    "while True:\n",
    "    user_input=input(\"Me: \")\n",
    "    if user_input=='bye':\n",
    "        print(\"chatbot:Goodbye!Have a great day!\")\n",
    "        break\n",
    "    response=get_response(user_input)\n",
    "    print(\"Chatbot:\",response)"
   ]
  },
  {
   "cell_type": "code",
   "execution_count": null,
   "id": "1ba4f4c9-9d48-4724-8a88-f916678e6aab",
   "metadata": {},
   "outputs": [],
   "source": []
  }
 ],
 "metadata": {
  "kernelspec": {
   "display_name": "Python 3 (ipykernel)",
   "language": "python",
   "name": "python3"
  },
  "language_info": {
   "codemirror_mode": {
    "name": "ipython",
    "version": 3
   },
   "file_extension": ".py",
   "mimetype": "text/x-python",
   "name": "python",
   "nbconvert_exporter": "python",
   "pygments_lexer": "ipython3",
   "version": "3.13.1"
  }
 },
 "nbformat": 4,
 "nbformat_minor": 5
}
