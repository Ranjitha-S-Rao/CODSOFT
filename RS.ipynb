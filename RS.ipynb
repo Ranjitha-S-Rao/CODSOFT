{
 "cells": [
  {
   "cell_type": "code",
   "execution_count": 5,
   "id": "d5ed2053-d43c-4186-87ca-f879ee12e5f2",
   "metadata": {},
   "outputs": [
    {
     "name": "stdout",
     "output_type": "stream",
     "text": [
      "Recommended Items: ['Item E', 'Item D', 'Item C']\n"
     ]
    }
   ],
   "source": [
    "import pandas as pd\n",
    "from sklearn.feature_extraction.text import TfidfVectorizer\n",
    "from sklearn.metrics.pairwise import cosine_similarity\n",
    "items = pd.DataFrame({\n",
    "    'item_id': [1, 2, 3, 4, 5],\n",
    "    'title': ['Item A', 'Item B', 'Item C', 'Item D', 'Item E'],\n",
    "    'description': [\n",
    "        'Red apple, sweet and juicy',\n",
    "        'Fresh orange, tangy and sweet',\n",
    "        'Crisp green apple, sour',\n",
    "        'Sweet banana, yellow and ripe',\n",
    "        'Orange juice, tangy and refreshing'\n",
    "    ]\n",
    "})\n",
    "user_likes = [1, 2]\n",
    "vectorizer = TfidfVectorizer(stop_words='english')\n",
    "tfidf_matrix = vectorizer.fit_transform(items['description'])\n",
    "cosine_sim = cosine_similarity(tfidf_matrix, tfidf_matrix)\n",
    "def get_recommendations(user_likes, cosine_sim, items):\n",
    "    liked_item_indices = [items[items['item_id'] == item_id].index[0] for item_id in user_likes]\n",
    "    similarity_scores = cosine_sim[liked_item_indices].mean(axis=0)\n",
    "    similar_items_indices = similarity_scores.argsort()[-6:][::-1]\n",
    "    recommendations = []\n",
    "    for idx in similar_items_indices:\n",
    "        if items.iloc[idx]['item_id'] not in user_likes:\n",
    "            recommendations.append(items.iloc[idx]['title'])\n",
    "    return recommendations\n",
    "recommended_items = get_recommendations(user_likes, cosine_sim, items)\n",
    "print(\"Recommended Items:\", recommended_items)"
   ]
  },
  {
   "cell_type": "code",
   "execution_count": null,
   "id": "45e3149f-9135-454d-bed0-6a9c56a950e6",
   "metadata": {},
   "outputs": [],
   "source": []
  }
 ],
 "metadata": {
  "kernelspec": {
   "display_name": "Python 3 (ipykernel)",
   "language": "python",
   "name": "python3"
  },
  "language_info": {
   "codemirror_mode": {
    "name": "ipython",
    "version": 3
   },
   "file_extension": ".py",
   "mimetype": "text/x-python",
   "name": "python",
   "nbconvert_exporter": "python",
   "pygments_lexer": "ipython3",
   "version": "3.13.1"
  }
 },
 "nbformat": 4,
 "nbformat_minor": 5
}
